{
 "cells": [
  {
   "cell_type": "code",
   "execution_count": 101,
   "id": "2124bb5d-8724-46bb-8940-10f83a2ff407",
   "metadata": {},
   "outputs": [],
   "source": [
    "import numpy as np\n",
    "import pandas as pd\n",
    "import matplotlib.pyplot as plt"
   ]
  },
  {
   "cell_type": "code",
   "execution_count": 102,
   "id": "d55da41b-efe1-4572-b428-f117745cf7b4",
   "metadata": {
    "tags": []
   },
   "outputs": [],
   "source": [
    "df = pd.read_excel(\"Book1.xlsx\", sheet_name = \"Sheet2\")\n",
    "df = df.fillna(0.0)\n",
    "# df"
   ]
  },
  {
   "cell_type": "code",
   "execution_count": 103,
   "id": "c8866bb1-e68c-4c10-8066-b318decce8e3",
   "metadata": {},
   "outputs": [],
   "source": [
    "df = df.drop([\"personnel\"], axis = 1)\n",
    "df = df.drop([\"interval\"], axis = 1)"
   ]
  },
  {
   "cell_type": "code",
   "execution_count": 92,
   "id": "92863ca3-2d05-46d5-987a-d64cdf8d84dd",
   "metadata": {
    "collapsed": true,
    "jupyter": {
     "outputs_hidden": true
    },
    "tags": []
   },
   "outputs": [
    {
     "name": "stdout",
     "output_type": "stream",
     "text": [
      "0.0\n",
      "8.5\n",
      "10.5\n",
      "8.5\n",
      "0.0\n",
      "10.5\n",
      "0.0\n",
      "12.5\n",
      "0.0\n",
      "0.0\n",
      "10.5\n",
      "10.5\n",
      "8.5\n",
      "7.0\n",
      "8.5\n",
      "10.5\n",
      "8.5\n",
      "10.5\n",
      "0.0\n",
      "0.0\n",
      "8.5\n",
      "0.0\n",
      "0.0\n",
      "0.0\n",
      "8.5\n",
      "0.0\n",
      "0.0\n",
      "0.0\n",
      "0.0\n",
      "0.0\n"
     ]
    }
   ],
   "source": [
    "shifts_dic = {}\n",
    "for i in range(len(df)):\n",
    "    shifts_dic[i] = df.loc[i].to_list()\n",
    "    print(sum(shifts_dic[i])/2)"
   ]
  },
  {
   "cell_type": "code",
   "execution_count": 93,
   "id": "c27991f7-0448-4ba5-a5b3-7d9dfec6df4a",
   "metadata": {},
   "outputs": [],
   "source": [
    "def shift(seq, n=0):\n",
    "    a = n % len(seq)\n",
    "    return seq[-a:] + seq[:-a]"
   ]
  },
  {
   "cell_type": "code",
   "execution_count": 64,
   "id": "384d1244-3ba8-45a3-9bb5-2485a02c7a5b",
   "metadata": {
    "tags": []
   },
   "outputs": [],
   "source": [
    "shifts_dic[5] = shift(shifts_dic[5], n = -10)"
   ]
  },
  {
   "cell_type": "code",
   "execution_count": 65,
   "id": "6b23857d-7946-4a22-b7cf-935bd250e695",
   "metadata": {
    "collapsed": true,
    "jupyter": {
     "outputs_hidden": true
    },
    "tags": []
   },
   "outputs": [
    {
     "data": {
      "text/plain": [
       "[0.0,\n",
       " 0.0,\n",
       " 0.0,\n",
       " 0.0,\n",
       " 0.0,\n",
       " 0.0,\n",
       " 0.0,\n",
       " 0.0,\n",
       " 0.0,\n",
       " 0.0,\n",
       " 0.0,\n",
       " 0.0,\n",
       " 0.0,\n",
       " 0.0,\n",
       " 0.0,\n",
       " 0.0,\n",
       " 0.0,\n",
       " 0.0,\n",
       " 0.0,\n",
       " 0.0,\n",
       " 0.0,\n",
       " 0.0,\n",
       " 1.0,\n",
       " 1.0,\n",
       " 1.0,\n",
       " 1.0,\n",
       " 1.0,\n",
       " 1.0,\n",
       " 1.0,\n",
       " 1.0,\n",
       " 1.0,\n",
       " 1.0,\n",
       " 1.0,\n",
       " 1.0,\n",
       " 1.0,\n",
       " 1.0,\n",
       " 1.0,\n",
       " 1.0,\n",
       " 1.0,\n",
       " 1.0,\n",
       " 1.0,\n",
       " 1.0,\n",
       " 1.0,\n",
       " 0.0,\n",
       " 0.0,\n",
       " 0.0,\n",
       " 0.0,\n",
       " 0.0]"
      ]
     },
     "execution_count": 65,
     "metadata": {},
     "output_type": "execute_result"
    }
   ],
   "source": [
    "shifts_dic[5]"
   ]
  },
  {
   "cell_type": "code",
   "execution_count": 63,
   "id": "b86ab949-576e-4ed7-929f-1ac27a41eea1",
   "metadata": {},
   "outputs": [
    {
     "data": {
      "text/plain": [
       "21.0"
      ]
     },
     "execution_count": 63,
     "metadata": {},
     "output_type": "execute_result"
    }
   ],
   "source": [
    "sss = sum(shifts_dic[5])\n",
    "sss"
   ]
  },
  {
   "cell_type": "code",
   "execution_count": 66,
   "id": "2c4f5fa0-9c97-4b96-a88d-1759cbe095d6",
   "metadata": {},
   "outputs": [
    {
     "data": {
      "text/plain": [
       "30"
      ]
     },
     "execution_count": 66,
     "metadata": {},
     "output_type": "execute_result"
    }
   ],
   "source": [
    "len(df)"
   ]
  },
  {
   "cell_type": "code",
   "execution_count": 69,
   "id": "c35ce926-e971-4750-b628-b4f0fdfed693",
   "metadata": {},
   "outputs": [
    {
     "data": {
      "text/plain": [
       "48"
      ]
     },
     "execution_count": 69,
     "metadata": {},
     "output_type": "execute_result"
    }
   ],
   "source": [
    "len(df.columns)"
   ]
  },
  {
   "cell_type": "code",
   "execution_count": 75,
   "id": "3d0501d9-6350-4e56-a64c-def93bb1a9b4",
   "metadata": {},
   "outputs": [
    {
     "data": {
      "text/plain": [
       "48"
      ]
     },
     "execution_count": 75,
     "metadata": {},
     "output_type": "execute_result"
    }
   ],
   "source": [
    "len(df.sum(axis=0).to_list())"
   ]
  },
  {
   "cell_type": "code",
   "execution_count": 76,
   "id": "b7b453e7-c31a-43e8-a7ef-c68d069ab339",
   "metadata": {},
   "outputs": [],
   "source": [
    "zerolist = [0]*48"
   ]
  },
  {
   "cell_type": "code",
   "execution_count": 83,
   "id": "cef1b167-5647-439b-824e-5bb6f100b1ba",
   "metadata": {},
   "outputs": [],
   "source": [
    "req = pd.read_excel(\"Book1.xlsx\", sheet_name = \"Sheet3\")"
   ]
  },
  {
   "cell_type": "code",
   "execution_count": 88,
   "id": "ff0f04f4-325b-4ff3-b357-77f0503afef2",
   "metadata": {},
   "outputs": [
    {
     "data": {
      "text/plain": [
       "48"
      ]
     },
     "execution_count": 88,
     "metadata": {},
     "output_type": "execute_result"
    }
   ],
   "source": [
    "required = req.loc[0].to_list()\n",
    "len(required)"
   ]
  },
  {
   "cell_type": "code",
   "execution_count": 98,
   "id": "98f57d11-08aa-443b-b54e-37e3be8ea208",
   "metadata": {},
   "outputs": [],
   "source": [
    "current = df.sum(axis=0).to_list()"
   ]
  },
  {
   "cell_type": "code",
   "execution_count": 99,
   "id": "03a4d57e-4310-4c38-b778-ee6c78b9e789",
   "metadata": {},
   "outputs": [
    {
     "data": {
      "text/plain": [
       "426.0"
      ]
     },
     "execution_count": 99,
     "metadata": {},
     "output_type": "execute_result"
    }
   ],
   "source": [
    "np.sum(np.square(np.array(required) - np.array(current)))"
   ]
  },
  {
   "cell_type": "code",
   "execution_count": null,
   "id": "2460abc3-2bc1-47b3-aea7-767854d93f5f",
   "metadata": {},
   "outputs": [],
   "source": []
  }
 ],
 "metadata": {
  "kernelspec": {
   "display_name": "Python 3",
   "language": "python",
   "name": "python3"
  },
  "language_info": {
   "codemirror_mode": {
    "name": "ipython",
    "version": 3
   },
   "file_extension": ".py",
   "mimetype": "text/x-python",
   "name": "python",
   "nbconvert_exporter": "python",
   "pygments_lexer": "ipython3",
   "version": "3.7.3"
  }
 },
 "nbformat": 4,
 "nbformat_minor": 5
}
