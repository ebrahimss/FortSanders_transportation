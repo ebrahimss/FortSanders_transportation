{
 "cells": [
  {
   "cell_type": "code",
   "execution_count": 2,
   "id": "b9e749c0-e53c-4960-af65-029a242122c2",
   "metadata": {},
   "outputs": [],
   "source": [
    "import numpy as np\n",
    "import pandas as pd\n",
    "import matplotlib.pyplot as plt"
   ]
  },
  {
   "cell_type": "code",
   "execution_count": 23,
   "id": "1850bf47-fab3-4e20-ada2-46f44e1e584a",
   "metadata": {},
   "outputs": [],
   "source": [
    "def table_to_dic(file_name = \"Schedule_weekdays_Jerry.xlsx\", sheet_name = \"MONDAY\"):\n",
    "    \n",
    "    df = pd.read_excel(file_name,\n",
    "                       sheet_name = sheet_name, \n",
    "                       usecols = \"F:BA\", nrows = 24, skiprows = 5)\n",
    "    df = df.fillna(0.0)\n",
    "#     df = df.drop([\"personnel\"], axis = 1)\n",
    "#     df = df.drop([\"interval\"], axis = 1)\n",
    "    \n",
    "    dic = {}\n",
    "    for i in range(len(df)):\n",
    "        dic[i] = df.loc[i].to_list()\n",
    "    \n",
    "    return dic"
   ]
  },
  {
   "cell_type": "code",
   "execution_count": 40,
   "id": "11173c3e-46b4-4115-8e88-95959c2b7610",
   "metadata": {},
   "outputs": [
    {
     "data": {
      "text/plain": [
       "24"
      ]
     },
     "execution_count": 40,
     "metadata": {},
     "output_type": "execute_result"
    }
   ],
   "source": [
    "schedule_dic = table_to_dic(sheet_name = \"SUNDAY\")\n",
    "sum(schedule_dic[1])\n",
    "len(schedule_dic)"
   ]
  },
  {
   "cell_type": "code",
   "execution_count": 41,
   "id": "3227db41-aadb-460d-9e1f-06e356772c72",
   "metadata": {},
   "outputs": [],
   "source": [
    "def shift(seq, n):\n",
    "    a = int(n) % len(seq)\n",
    "    return seq[-a:] + seq[:-a]"
   ]
  },
  {
   "cell_type": "code",
   "execution_count": 42,
   "id": "a01d5f0b-fca1-45db-bbc7-adb8beb22987",
   "metadata": {},
   "outputs": [],
   "source": [
    "def shift_schedule(schedule_dic, floatings):\n",
    "    \n",
    "    converted_schdule_dic = {}\n",
    "    for i in range(len(schedule_dic)):\n",
    "        if sum(schedule_dic[i]) > 0:\n",
    "            converted_schdule_dic[i] = shift(seq = schedule_dic[i], n = floatings[i])\n",
    "        else:\n",
    "            converted_schdule_dic[i] = schedule_dic[i]\n",
    "    return converted_schdule_dic"
   ]
  },
  {
   "cell_type": "code",
   "execution_count": 43,
   "id": "ae14dcc0-8121-489c-adba-ff06b039d180",
   "metadata": {},
   "outputs": [
    {
     "data": {
      "text/plain": [
       "24"
      ]
     },
     "execution_count": 43,
     "metadata": {},
     "output_type": "execute_result"
    }
   ],
   "source": [
    "new_dic = shift_schedule(schedule_dic = schedule_dic, floatings = [4]*len(schedule_dic))\n",
    "len(new_dic)"
   ]
  },
  {
   "cell_type": "code",
   "execution_count": 44,
   "id": "ac8f6ca8-7de4-4f82-beb9-aba7b4860647",
   "metadata": {},
   "outputs": [],
   "source": [
    "def RSS(schedule_dic, baseline):\n",
    "    \n",
    "#     sum_list = []\n",
    "#     for j in range(len(schedule_dic[1])):\n",
    "#         summ = 0\n",
    "#         for i in range(len(schedule_dic)):\n",
    "#             summ += schedule_dic[i][j]\n",
    "#         sum_list.append(summ)\n",
    "\n",
    "    \n",
    "    df = pd.DataFrame(columns = [*range(0,48,1)])\n",
    "    \n",
    "    for i in range(len(schedule_dic)):\n",
    "        df.loc[len(df)] = schedule_dic[i]\n",
    "        \n",
    "    sum_list = df.sum(axis=0).to_list()\n",
    "    RSS_val = np.sum(np.square(np.array(sum_list) - np.array(baseline)))\n",
    "    \n",
    "    return int(RSS_val)\n",
    "#     return sum_list"
   ]
  },
  {
   "cell_type": "code",
   "execution_count": 45,
   "id": "ee1ab30b-379d-439d-8d18-5ab728c6f0b2",
   "metadata": {},
   "outputs": [
    {
     "data": {
      "text/plain": [
       "336"
      ]
     },
     "execution_count": 45,
     "metadata": {},
     "output_type": "execute_result"
    }
   ],
   "source": [
    "nn = [5.0] * 48\n",
    "RSS_value = RSS(schedule_dic = schedule_dic, baseline = nn)\n",
    "RSS_value"
   ]
  },
  {
   "cell_type": "code",
   "execution_count": 46,
   "id": "272b4253-7f73-4732-80ef-89de4b9bb4bf",
   "metadata": {},
   "outputs": [],
   "source": [
    "req = pd.read_excel(\"Book1.xlsx\", sheet_name = \"Sheet4\")\n",
    "required = req.loc[0].to_list()"
   ]
  },
  {
   "cell_type": "code",
   "execution_count": 47,
   "id": "8b30a922-c31b-4ce3-8f85-ece7f19dd3c1",
   "metadata": {},
   "outputs": [
    {
     "data": {
      "text/plain": [
       "52"
      ]
     },
     "execution_count": 47,
     "metadata": {},
     "output_type": "execute_result"
    }
   ],
   "source": [
    "RSS_value = RSS(schedule_dic = schedule_dic, baseline = required)\n",
    "RSS_value"
   ]
  },
  {
   "cell_type": "code",
   "execution_count": 48,
   "id": "0587a693-b005-4621-8cec-6c95df4adbc4",
   "metadata": {},
   "outputs": [],
   "source": [
    "def obj_func(X):\n",
    "    \n",
    "    schedule_dicc = table_to_dic()\n",
    "    converted_schedule_dic = shift_schedule(schedule_dic = schedule_dicc, floatings = X)\n",
    "    RSS_value = RSS(schedule_dic = converted_schedule_dic, baseline = required)\n",
    "    \n",
    "    return int(RSS_value)\n",
    "    "
   ]
  },
  {
   "cell_type": "code",
   "execution_count": 57,
   "id": "fe30155b-58c7-4d5d-8b9f-6faf0a24aea9",
   "metadata": {},
   "outputs": [
    {
     "name": "stdout",
     "output_type": "stream",
     "text": [
      " The best solution found:                                                                           \n",
      " [-2. -4.  0.  1. -3.  4.  3. -3. -1.  2. -4.  1.  0.  4.  4.  3.  4. -2.\n",
      "  4. -3.  1. -3.  2.  4.]\n",
      "\n",
      " Objective function:\n",
      " 120.0\n"
     ]
    },
    {
     "data": {
      "image/png": "[encoded data removed]",
      "text/plain": [
       "<Figure size 432x288 with 1 Axes>"
      ]
     },
     "metadata": {
      "needs_background": "light"
     },
     "output_type": "display_data"
    }
   ],
   "source": [
    "from geneticalgorithm import geneticalgorithm as ga\n",
    "\n",
    "varbound=np.array([[-4,4]]*len(schedule_dic))\n",
    "vartype=np.array([['int']]*len(schedule_dic))\n",
    "algorithm_param = {'max_num_iteration': 100,\\\n",
    "                   'population_size':30,\\\n",
    "                   'mutation_probability':0.1,\\\n",
    "                   'elit_ratio': 0.01,\\\n",
    "                   'crossover_probability': 0.5,\\\n",
    "                   'parents_portion': 0.3,\\\n",
    "                   'crossover_type':'uniform',\\\n",
    "                   'max_iteration_without_improv':None}\n",
    "\n",
    "ga_model = ga(function=obj_func, dimension=len(schedule_dic), variable_type_mixed=vartype,\n",
    "            variable_boundaries=varbound, algorithm_parameters=algorithm_param, function_timeout = 60.0)\n",
    "\n",
    "ga_model.run()"
   ]
  },
  {
   "cell_type": "code",
   "execution_count": 50,
   "id": "b592792c-6d30-4a7a-b3bd-23267fbc0c8e",
   "metadata": {},
   "outputs": [
    {
     "data": {
      "text/plain": [
       "{'variable': array([ 4.,  1.,  1., -1., -4.,  4.,  3.,  2., -1., -4., -4.,  0., -2.,\n",
       "        -2.,  3.,  3.,  4.,  4.,  4.,  4.,  2., -4., -3.,  4.]),\n",
       " 'function': 122.0}"
      ]
     },
     "execution_count": 50,
     "metadata": {},
     "output_type": "execute_result"
    }
   ],
   "source": [
    "solution1 = ga_model.output_dict\n",
    "solution1"
   ]
  },
  {
   "cell_type": "code",
   "execution_count": 51,
   "id": "ce603090-f92a-4c83-937c-cc310c92bbe7",
   "metadata": {},
   "outputs": [],
   "source": [
    "convergence1 = ga_model.report\n"
   ]
  },
  {
   "cell_type": "code",
   "execution_count": 52,
   "id": "6c320ce7-c425-49c6-ab20-94e26e42a5ab",
   "metadata": {},
   "outputs": [],
   "source": [
    "new_dic = shift_schedule(schedule_dic = schedule_dic, floatings = solution1[\"variable\"])"
   ]
  },
  {
   "cell_type": "code",
   "execution_count": 53,
   "id": "15a1d4cc-4ada-42d9-af88-2f6f72bc5199",
   "metadata": {},
   "outputs": [],
   "source": [
    "new_df = pd.DataFrame.from_dict(new_dic, orient = 'index')"
   ]
  },
  {
   "cell_type": "code",
   "execution_count": 54,
   "id": "bfac5979-a5ed-40b2-8c53-9613a9ddb909",
   "metadata": {},
   "outputs": [],
   "source": [
    "new_df.to_excel(\"SUNDAY.xlsx\")"
   ]
  },
  {
   "cell_type": "code",
   "execution_count": 55,
   "id": "3d172215-b70f-409c-97ca-cd0d2c75c04b",
   "metadata": {},
   "outputs": [],
   "source": [
    "df_sol = pd.DataFrame(solution1[\"variable\"])\n",
    "df_sol.to_excel(\"SUNDAY-sol.xlsx\")"
   ]
  },
  {
   "cell_type": "code",
   "execution_count": null,
   "id": "d6d035b3-905f-4c18-b7ff-84d6bbb6c1c3",
   "metadata": {},
   "outputs": [],
   "source": []
  }
 ],
 "metadata": {
  "kernelspec": {
   "display_name": "Python 3",
   "language": "python",
   "name": "python3"
  },
  "language_info": {
   "codemirror_mode": {
    "name": "ipython",
    "version": 3
   },
   "file_extension": ".py",
   "mimetype": "text/x-python",
   "name": "python",
   "nbconvert_exporter": "python",
   "pygments_lexer": "ipython3",
   "version": "3.7.3"
  }
 },
 "nbformat": 4,
 "nbformat_minor": 5
}
